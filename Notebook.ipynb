{
 "cells": [
  {
   "cell_type": "markdown",
   "metadata": {},
   "source": [
    "# Getting  Box Office Mojo dataset for use"
   ]
  },
  {
   "cell_type": "code",
   "execution_count": 10,
   "metadata": {},
   "outputs": [
    {
     "data": {
      "text/html": [
       "<div>\n",
       "<style scoped>\n",
       "    .dataframe tbody tr th:only-of-type {\n",
       "        vertical-align: middle;\n",
       "    }\n",
       "\n",
       "    .dataframe tbody tr th {\n",
       "        vertical-align: top;\n",
       "    }\n",
       "\n",
       "    .dataframe thead th {\n",
       "        text-align: right;\n",
       "    }\n",
       "</style>\n",
       "<table border=\"1\" class=\"dataframe\">\n",
       "  <thead>\n",
       "    <tr style=\"text-align: right;\">\n",
       "      <th></th>\n",
       "      <th></th>\n",
       "      <th>.1</th>\n",
       "      <th>Movie Title</th>\n",
       "      <th>Distributor</th>\n",
       "      <th>Gross</th>\n",
       "      <th>%LW</th>\n",
       "      <th>Theaters</th>\n",
       "      <th>TheatersChange</th>\n",
       "      <th>PerTheater</th>\n",
       "      <th>TotalGross</th>\n",
       "      <th>Weeks InRelease</th>\n",
       "    </tr>\n",
       "  </thead>\n",
       "  <tbody>\n",
       "    <tr>\n",
       "      <th>0</th>\n",
       "      <td>3</td>\n",
       "      <td>-1</td>\n",
       "      <td>IF</td>\n",
       "      <td>Paramount Pi…</td>\n",
       "      <td>27062158.0</td>\n",
       "      <td>-0.36</td>\n",
       "      <td>4068</td>\n",
       "      <td>27</td>\n",
       "      <td>6652.0</td>\n",
       "      <td>69628950.0</td>\n",
       "      <td>2</td>\n",
       "    </tr>\n",
       "    <tr>\n",
       "      <th>1</th>\n",
       "      <td>4</td>\n",
       "      <td>-2</td>\n",
       "      <td>Kingdom of the Planet of the Apes</td>\n",
       "      <td>20th Century…</td>\n",
       "      <td>21746807.0</td>\n",
       "      <td>-0.36</td>\n",
       "      <td>3550</td>\n",
       "      <td>-525</td>\n",
       "      <td>6126.0</td>\n",
       "      <td>131196059.0</td>\n",
       "      <td>3</td>\n",
       "    </tr>\n",
       "    <tr>\n",
       "      <th>2</th>\n",
       "      <td>6</td>\n",
       "      <td>-3</td>\n",
       "      <td>The Strangers: Chapter 1</td>\n",
       "      <td>Lionsgate</td>\n",
       "      <td>9031852.0</td>\n",
       "      <td>-0.43</td>\n",
       "      <td>2856</td>\n",
       "      <td>n/c</td>\n",
       "      <td>3162.0</td>\n",
       "      <td>24765840.0</td>\n",
       "      <td>2</td>\n",
       "    </tr>\n",
       "    <tr>\n",
       "      <th>3</th>\n",
       "      <td>5</td>\n",
       "      <td>-4</td>\n",
       "      <td>The Fall Guy</td>\n",
       "      <td>Universal</td>\n",
       "      <td>9794020.0</td>\n",
       "      <td>-0.17</td>\n",
       "      <td>2955</td>\n",
       "      <td>-890</td>\n",
       "      <td>3314.0</td>\n",
       "      <td>76085405.0</td>\n",
       "      <td>4</td>\n",
       "    </tr>\n",
       "    <tr>\n",
       "      <th>4</th>\n",
       "      <td>8</td>\n",
       "      <td>-5</td>\n",
       "      <td>Challengers</td>\n",
       "      <td>Amazon MGM S…</td>\n",
       "      <td>2530784.0</td>\n",
       "      <td>-0.44</td>\n",
       "      <td>1089</td>\n",
       "      <td>-849</td>\n",
       "      <td>2324.0</td>\n",
       "      <td>47625544.0</td>\n",
       "      <td>5</td>\n",
       "    </tr>\n",
       "    <tr>\n",
       "      <th>5</th>\n",
       "      <td>9</td>\n",
       "      <td>-6</td>\n",
       "      <td>Back to Black</td>\n",
       "      <td>Focus Features</td>\n",
       "      <td>1853990.0</td>\n",
       "      <td>-0.52</td>\n",
       "      <td>2013</td>\n",
       "      <td>3</td>\n",
       "      <td>921.0</td>\n",
       "      <td>5753010.0</td>\n",
       "      <td>2</td>\n",
       "    </tr>\n",
       "    <tr>\n",
       "      <th>6</th>\n",
       "      <td>11</td>\n",
       "      <td>-7</td>\n",
       "      <td>Tarot</td>\n",
       "      <td>Sony Pictures</td>\n",
       "      <td>1210703.0</td>\n",
       "      <td>-0.57</td>\n",
       "      <td>864</td>\n",
       "      <td>-1470</td>\n",
       "      <td>1401.0</td>\n",
       "      <td>17489392.0</td>\n",
       "      <td>4</td>\n",
       "    </tr>\n",
       "    <tr>\n",
       "      <th>7</th>\n",
       "      <td>13</td>\n",
       "      <td>-8</td>\n",
       "      <td>Godzilla x Kong: The New Empire</td>\n",
       "      <td>Warner Bros.</td>\n",
       "      <td>949860.0</td>\n",
       "      <td>-0.57</td>\n",
       "      <td>664</td>\n",
       "      <td>-1109</td>\n",
       "      <td>1431.0</td>\n",
       "      <td>195856493.0</td>\n",
       "      <td>9</td>\n",
       "    </tr>\n",
       "    <tr>\n",
       "      <th>8</th>\n",
       "      <td>18</td>\n",
       "      <td>-9</td>\n",
       "      <td>The Blue Angels</td>\n",
       "      <td>Amazon MGM S…</td>\n",
       "      <td>396292.0</td>\n",
       "      <td>-0.81</td>\n",
       "      <td>450</td>\n",
       "      <td>223</td>\n",
       "      <td>881.0</td>\n",
       "      <td>2478619.0</td>\n",
       "      <td>2</td>\n",
       "    </tr>\n",
       "    <tr>\n",
       "      <th>9</th>\n",
       "      <td>12</td>\n",
       "      <td>-10</td>\n",
       "      <td>I Saw the TV Glow</td>\n",
       "      <td>A24</td>\n",
       "      <td>1073208.0</td>\n",
       "      <td>-0.36</td>\n",
       "      <td>469</td>\n",
       "      <td>n/c</td>\n",
       "      <td>2288.0</td>\n",
       "      <td>3217136.0</td>\n",
       "      <td>4</td>\n",
       "    </tr>\n",
       "    <tr>\n",
       "      <th>10</th>\n",
       "      <td>14</td>\n",
       "      <td>-11</td>\n",
       "      <td>Unsung Hero</td>\n",
       "      <td>Lionsgate</td>\n",
       "      <td>550668.0</td>\n",
       "      <td>-0.64</td>\n",
       "      <td>530</td>\n",
       "      <td>-1206</td>\n",
       "      <td>1039.0</td>\n",
       "      <td>20064357.0</td>\n",
       "      <td>5</td>\n",
       "    </tr>\n",
       "    <tr>\n",
       "      <th>11</th>\n",
       "      <td>15</td>\n",
       "      <td>-12</td>\n",
       "      <td>Civil War</td>\n",
       "      <td>A24</td>\n",
       "      <td>547494.0</td>\n",
       "      <td>-0.63</td>\n",
       "      <td>1112</td>\n",
       "      <td>n/c</td>\n",
       "      <td>492.0</td>\n",
       "      <td>68259430.0</td>\n",
       "      <td>7</td>\n",
       "    </tr>\n",
       "    <tr>\n",
       "      <th>12</th>\n",
       "      <td>17</td>\n",
       "      <td>-13</td>\n",
       "      <td>Kung Fu Panda 4</td>\n",
       "      <td>Universal</td>\n",
       "      <td>406990.0</td>\n",
       "      <td>-0.69</td>\n",
       "      <td>485</td>\n",
       "      <td>-952</td>\n",
       "      <td>839.0</td>\n",
       "      <td>193425355.0</td>\n",
       "      <td>12</td>\n",
       "    </tr>\n",
       "    <tr>\n",
       "      <th>13</th>\n",
       "      <td>16</td>\n",
       "      <td>-14</td>\n",
       "      <td>Ghostbusters: Frozen Empire</td>\n",
       "      <td>Sony Pictures</td>\n",
       "      <td>473386.0</td>\n",
       "      <td>-0.17</td>\n",
       "      <td>228</td>\n",
       "      <td>-591</td>\n",
       "      <td>2076.0</td>\n",
       "      <td>112748155.0</td>\n",
       "      <td>10</td>\n",
       "    </tr>\n",
       "    <tr>\n",
       "      <th>14</th>\n",
       "      <td>24</td>\n",
       "      <td>-15</td>\n",
       "      <td>Abigail</td>\n",
       "      <td>Universal</td>\n",
       "      <td>86525.0</td>\n",
       "      <td>-0.84</td>\n",
       "      <td>109</td>\n",
       "      <td>-585</td>\n",
       "      <td>794.0</td>\n",
       "      <td>25867515.0</td>\n",
       "      <td>6</td>\n",
       "    </tr>\n",
       "    <tr>\n",
       "      <th>15</th>\n",
       "      <td>22</td>\n",
       "      <td>-17</td>\n",
       "      <td>The Ministry of Ungentlemanly Warfare</td>\n",
       "      <td>Lionsgate</td>\n",
       "      <td>100453.0</td>\n",
       "      <td>-0.71</td>\n",
       "      <td>100</td>\n",
       "      <td>-305</td>\n",
       "      <td>1005.0</td>\n",
       "      <td>20535053.0</td>\n",
       "      <td>6</td>\n",
       "    </tr>\n",
       "    <tr>\n",
       "      <th>16</th>\n",
       "      <td>26</td>\n",
       "      <td>-18</td>\n",
       "      <td>Star Wars Ep. I: The Phantom Menace</td>\n",
       "      <td>20th Century…</td>\n",
       "      <td>44118.0</td>\n",
       "      <td>-0.81</td>\n",
       "      <td>70</td>\n",
       "      <td>-260</td>\n",
       "      <td>630.0</td>\n",
       "      <td>487574671.0</td>\n",
       "      <td>1307</td>\n",
       "    </tr>\n",
       "    <tr>\n",
       "      <th>17</th>\n",
       "      <td>10</td>\n",
       "      <td>-19</td>\n",
       "      <td>Babes</td>\n",
       "      <td>Neon</td>\n",
       "      <td>1622694.0</td>\n",
       "      <td>6.12</td>\n",
       "      <td>595</td>\n",
       "      <td>583</td>\n",
       "      <td>2727.0</td>\n",
       "      <td>1850493.0</td>\n",
       "      <td>2</td>\n",
       "    </tr>\n",
       "    <tr>\n",
       "      <th>18</th>\n",
       "      <td>20</td>\n",
       "      <td>-20</td>\n",
       "      <td>Evil Does Not Exist</td>\n",
       "      <td>Janus Films</td>\n",
       "      <td>176549.0</td>\n",
       "      <td>-0.06</td>\n",
       "      <td>138</td>\n",
       "      <td>35</td>\n",
       "      <td>1279.0</td>\n",
       "      <td>587692.0</td>\n",
       "      <td>4</td>\n",
       "    </tr>\n",
       "    <tr>\n",
       "      <th>19</th>\n",
       "      <td>21</td>\n",
       "      <td>-21</td>\n",
       "      <td>Wildcat</td>\n",
       "      <td>Oscilloscope…</td>\n",
       "      <td>129752.0</td>\n",
       "      <td>-0.21</td>\n",
       "      <td>104</td>\n",
       "      <td>-10</td>\n",
       "      <td>1248.0</td>\n",
       "      <td>435218.0</td>\n",
       "      <td>4</td>\n",
       "    </tr>\n",
       "    <tr>\n",
       "      <th>20</th>\n",
       "      <td>23</td>\n",
       "      <td>-22</td>\n",
       "      <td>The Roundup: Punishment</td>\n",
       "      <td>Capelight Pi…</td>\n",
       "      <td>93118.0</td>\n",
       "      <td>-0.42</td>\n",
       "      <td>18</td>\n",
       "      <td>-16</td>\n",
       "      <td>5173.0</td>\n",
       "      <td>1044487.0</td>\n",
       "      <td>5</td>\n",
       "    </tr>\n",
       "    <tr>\n",
       "      <th>21</th>\n",
       "      <td>28</td>\n",
       "      <td>-23</td>\n",
       "      <td>The First Omen</td>\n",
       "      <td>20th Century…</td>\n",
       "      <td>23165.0</td>\n",
       "      <td>-0.84</td>\n",
       "      <td>95</td>\n",
       "      <td>-55</td>\n",
       "      <td>244.0</td>\n",
       "      <td>20092802.0</td>\n",
       "      <td>8</td>\n",
       "    </tr>\n",
       "    <tr>\n",
       "      <th>22</th>\n",
       "      <td>25</td>\n",
       "      <td>-24</td>\n",
       "      <td>Wicked Little Letters</td>\n",
       "      <td>Sony Picture…</td>\n",
       "      <td>59034.0</td>\n",
       "      <td>-0.52</td>\n",
       "      <td>46</td>\n",
       "      <td>-86</td>\n",
       "      <td>1283.0</td>\n",
       "      <td>4912792.0</td>\n",
       "      <td>9</td>\n",
       "    </tr>\n",
       "    <tr>\n",
       "      <th>23</th>\n",
       "      <td>32</td>\n",
       "      <td>-25</td>\n",
       "      <td>Spy x Family Code: White</td>\n",
       "      <td>Crunchyroll</td>\n",
       "      <td>13067.0</td>\n",
       "      <td>-0.73</td>\n",
       "      <td>10</td>\n",
       "      <td>-24</td>\n",
       "      <td>1307.0</td>\n",
       "      <td>8110042.0</td>\n",
       "      <td>6</td>\n",
       "    </tr>\n",
       "    <tr>\n",
       "      <th>24</th>\n",
       "      <td>33</td>\n",
       "      <td>-27</td>\n",
       "      <td>Irena’s Vow</td>\n",
       "      <td>Quiver</td>\n",
       "      <td>12482.0</td>\n",
       "      <td>-0.65</td>\n",
       "      <td>51</td>\n",
       "      <td>n/c</td>\n",
       "      <td>245.0</td>\n",
       "      <td>1188493.0</td>\n",
       "      <td>7</td>\n",
       "    </tr>\n",
       "    <tr>\n",
       "      <th>25</th>\n",
       "      <td>35</td>\n",
       "      <td>-28</td>\n",
       "      <td>Aggro Dr1ft</td>\n",
       "      <td>EDGLRD</td>\n",
       "      <td>6091.0</td>\n",
       "      <td>-0.83</td>\n",
       "      <td>8</td>\n",
       "      <td>-20</td>\n",
       "      <td>761.0</td>\n",
       "      <td>180083.0</td>\n",
       "      <td>3</td>\n",
       "    </tr>\n",
       "    <tr>\n",
       "      <th>26</th>\n",
       "      <td>27</td>\n",
       "      <td>-29</td>\n",
       "      <td>La chimera</td>\n",
       "      <td>Neon</td>\n",
       "      <td>38395.0</td>\n",
       "      <td>0.15</td>\n",
       "      <td>15</td>\n",
       "      <td>-5</td>\n",
       "      <td>2560.0</td>\n",
       "      <td>860266.0</td>\n",
       "      <td>9</td>\n",
       "    </tr>\n",
       "    <tr>\n",
       "      <th>27</th>\n",
       "      <td>34</td>\n",
       "      <td>-30</td>\n",
       "      <td>Hundreds of Beavers</td>\n",
       "      <td>SRH</td>\n",
       "      <td>10082.0</td>\n",
       "      <td>-0.55</td>\n",
       "      <td>10</td>\n",
       "      <td>-7</td>\n",
       "      <td>1008.0</td>\n",
       "      <td>386079.0</td>\n",
       "      <td>18</td>\n",
       "    </tr>\n",
       "    <tr>\n",
       "      <th>28</th>\n",
       "      <td>29</td>\n",
       "      <td>-31</td>\n",
       "      <td>The Old Oak</td>\n",
       "      <td>Zeitgeist</td>\n",
       "      <td>17607.0</td>\n",
       "      <td>-0.18</td>\n",
       "      <td>17</td>\n",
       "      <td>-11</td>\n",
       "      <td>1036.0</td>\n",
       "      <td>216706.0</td>\n",
       "      <td>8</td>\n",
       "    </tr>\n",
       "    <tr>\n",
       "      <th>29</th>\n",
       "      <td>31</td>\n",
       "      <td>-32</td>\n",
       "      <td>Taking Venice</td>\n",
       "      <td>Zeitgeist</td>\n",
       "      <td>13545.0</td>\n",
       "      <td>0.38</td>\n",
       "      <td>9</td>\n",
       "      <td>8</td>\n",
       "      <td>1505.0</td>\n",
       "      <td>37496.0</td>\n",
       "      <td>2</td>\n",
       "    </tr>\n",
       "    <tr>\n",
       "      <th>30</th>\n",
       "      <td>36</td>\n",
       "      <td>-33</td>\n",
       "      <td>The Beast</td>\n",
       "      <td>Janus Films</td>\n",
       "      <td>5549.0</td>\n",
       "      <td>-0.41</td>\n",
       "      <td>19</td>\n",
       "      <td>-13</td>\n",
       "      <td>292.0</td>\n",
       "      <td>397528.0</td>\n",
       "      <td>8</td>\n",
       "    </tr>\n",
       "    <tr>\n",
       "      <th>31</th>\n",
       "      <td>43</td>\n",
       "      <td>-36</td>\n",
       "      <td>The Feeling That the Time for Doing Something H…</td>\n",
       "      <td>Magnolia Pic…</td>\n",
       "      <td>2201.0</td>\n",
       "      <td>-0.7</td>\n",
       "      <td>5</td>\n",
       "      <td>-12</td>\n",
       "      <td>440.0</td>\n",
       "      <td>76887.0</td>\n",
       "      <td>5</td>\n",
       "    </tr>\n",
       "    <tr>\n",
       "      <th>32</th>\n",
       "      <td>45</td>\n",
       "      <td>-37</td>\n",
       "      <td>We Grown Now</td>\n",
       "      <td>Sony Picture…</td>\n",
       "      <td>1789.0</td>\n",
       "      <td>-0.75</td>\n",
       "      <td>2</td>\n",
       "      <td>-7</td>\n",
       "      <td>895.0</td>\n",
       "      <td>291705.0</td>\n",
       "      <td>6</td>\n",
       "    </tr>\n",
       "    <tr>\n",
       "      <th>33</th>\n",
       "      <td>42</td>\n",
       "      <td>-39</td>\n",
       "      <td>Late Night with the Devil</td>\n",
       "      <td>IFC Films</td>\n",
       "      <td>2360.0</td>\n",
       "      <td>-0.61</td>\n",
       "      <td>8</td>\n",
       "      <td>-5</td>\n",
       "      <td>295.0</td>\n",
       "      <td>9962832.0</td>\n",
       "      <td>10</td>\n",
       "    </tr>\n",
       "    <tr>\n",
       "      <th>34</th>\n",
       "      <td>39</td>\n",
       "      <td>-40</td>\n",
       "      <td>Hard Miles</td>\n",
       "      <td>Blue Fox Ent…</td>\n",
       "      <td>3349.0</td>\n",
       "      <td>-0.42</td>\n",
       "      <td>6</td>\n",
       "      <td>-3</td>\n",
       "      <td>558.0</td>\n",
       "      <td>380545.0</td>\n",
       "      <td>6</td>\n",
       "    </tr>\n",
       "    <tr>\n",
       "      <th>35</th>\n",
       "      <td>47</td>\n",
       "      <td>-43</td>\n",
       "      <td>Gasoline Rainbow</td>\n",
       "      <td>MUBI</td>\n",
       "      <td>1247.0</td>\n",
       "      <td>-0.72</td>\n",
       "      <td>10</td>\n",
       "      <td>-10</td>\n",
       "      <td>125.0</td>\n",
       "      <td>29068.0</td>\n",
       "      <td>3</td>\n",
       "    </tr>\n",
       "    <tr>\n",
       "      <th>36</th>\n",
       "      <td>44</td>\n",
       "      <td>-44</td>\n",
       "      <td>Indigo Girls: It’s Only Life After All</td>\n",
       "      <td>Oscilloscope…</td>\n",
       "      <td>2013.0</td>\n",
       "      <td>-0.49</td>\n",
       "      <td>5</td>\n",
       "      <td>1</td>\n",
       "      <td>403.0</td>\n",
       "      <td>222779.0</td>\n",
       "      <td>8</td>\n",
       "    </tr>\n",
       "    <tr>\n",
       "      <th>37</th>\n",
       "      <td>37</td>\n",
       "      <td>-45</td>\n",
       "      <td>The Lavender Hill Mob</td>\n",
       "      <td>Rialto Pictures</td>\n",
       "      <td>3795.0</td>\n",
       "      <td>0.09</td>\n",
       "      <td>2</td>\n",
       "      <td>1</td>\n",
       "      <td>1898.0</td>\n",
       "      <td>16361.0</td>\n",
       "      <td>3790</td>\n",
       "    </tr>\n",
       "    <tr>\n",
       "      <th>38</th>\n",
       "      <td>41</td>\n",
       "      <td>-46</td>\n",
       "      <td>Nostalghia</td>\n",
       "      <td>Kino Lorber</td>\n",
       "      <td>2613.0</td>\n",
       "      <td>-0.08</td>\n",
       "      <td>3</td>\n",
       "      <td>1</td>\n",
       "      <td>871.0</td>\n",
       "      <td>227270.0</td>\n",
       "      <td>574</td>\n",
       "    </tr>\n",
       "    <tr>\n",
       "      <th>39</th>\n",
       "      <td>40</td>\n",
       "      <td>-48</td>\n",
       "      <td>Remembering Gene Wilder</td>\n",
       "      <td>Kino Lorber</td>\n",
       "      <td>2931.0</td>\n",
       "      <td>0.26</td>\n",
       "      <td>3</td>\n",
       "      <td>-6</td>\n",
       "      <td>977.0</td>\n",
       "      <td>152549.0</td>\n",
       "      <td>11</td>\n",
       "    </tr>\n",
       "    <tr>\n",
       "      <th>40</th>\n",
       "      <td>49</td>\n",
       "      <td>-50</td>\n",
       "      <td>Limbo</td>\n",
       "      <td>Music Box Films</td>\n",
       "      <td>788.0</td>\n",
       "      <td>-0.57</td>\n",
       "      <td>1</td>\n",
       "      <td>-2</td>\n",
       "      <td>788.0</td>\n",
       "      <td>43897.0</td>\n",
       "      <td>10</td>\n",
       "    </tr>\n",
       "    <tr>\n",
       "      <th>41</th>\n",
       "      <td>46</td>\n",
       "      <td>-52</td>\n",
       "      <td>Lost Soulz</td>\n",
       "      <td>Kino Lorber</td>\n",
       "      <td>1590.0</td>\n",
       "      <td>0.09</td>\n",
       "      <td>5</td>\n",
       "      <td>1</td>\n",
       "      <td>318.0</td>\n",
       "      <td>23102.0</td>\n",
       "      <td>4</td>\n",
       "    </tr>\n",
       "    <tr>\n",
       "      <th>42</th>\n",
       "      <td>52</td>\n",
       "      <td>-55</td>\n",
       "      <td>Boy Kills World</td>\n",
       "      <td>Roadside Att…</td>\n",
       "      <td>476.0</td>\n",
       "      <td>-0.49</td>\n",
       "      <td>2</td>\n",
       "      <td>-5</td>\n",
       "      <td>238.0</td>\n",
       "      <td>2626127.0</td>\n",
       "      <td>5</td>\n",
       "    </tr>\n",
       "    <tr>\n",
       "      <th>43</th>\n",
       "      <td>50</td>\n",
       "      <td>-56</td>\n",
       "      <td>Catching Fire: The Story of Anita Pallenberg</td>\n",
       "      <td>Magnolia Pic…</td>\n",
       "      <td>712.0</td>\n",
       "      <td>-0.16</td>\n",
       "      <td>2</td>\n",
       "      <td>n/c</td>\n",
       "      <td>356.0</td>\n",
       "      <td>14089.0</td>\n",
       "      <td>4</td>\n",
       "    </tr>\n",
       "    <tr>\n",
       "      <th>44</th>\n",
       "      <td>54</td>\n",
       "      <td>-58</td>\n",
       "      <td>Femme</td>\n",
       "      <td>Utopia</td>\n",
       "      <td>424.0</td>\n",
       "      <td>-0.42</td>\n",
       "      <td>1</td>\n",
       "      <td>-2</td>\n",
       "      <td>424.0</td>\n",
       "      <td>186656.0</td>\n",
       "      <td>10</td>\n",
       "    </tr>\n",
       "    <tr>\n",
       "      <th>45</th>\n",
       "      <td>53</td>\n",
       "      <td>-60</td>\n",
       "      <td>Omen</td>\n",
       "      <td>Utopia</td>\n",
       "      <td>467.0</td>\n",
       "      <td>0.04</td>\n",
       "      <td>1</td>\n",
       "      <td>n/c</td>\n",
       "      <td>467.0</td>\n",
       "      <td>10004.0</td>\n",
       "      <td>7</td>\n",
       "    </tr>\n",
       "    <tr>\n",
       "      <th>46</th>\n",
       "      <td>57</td>\n",
       "      <td>-61</td>\n",
       "      <td>Golden Years</td>\n",
       "      <td>Music Box Films</td>\n",
       "      <td>193.0</td>\n",
       "      <td>-0.28</td>\n",
       "      <td>1</td>\n",
       "      <td>n/c</td>\n",
       "      <td>193.0</td>\n",
       "      <td>16808.0</td>\n",
       "      <td>14</td>\n",
       "    </tr>\n",
       "    <tr>\n",
       "      <th>47</th>\n",
       "      <td>1</td>\n",
       "      <td>N</td>\n",
       "      <td>Furiosa: A Mad Max Saga</td>\n",
       "      <td>Warner Bros.</td>\n",
       "      <td>38917619.0</td>\n",
       "      <td></td>\n",
       "      <td>3804</td>\n",
       "      <td></td>\n",
       "      <td>10231.0</td>\n",
       "      <td>38917619.0</td>\n",
       "      <td>1</td>\n",
       "    </tr>\n",
       "    <tr>\n",
       "      <th>48</th>\n",
       "      <td>2</td>\n",
       "      <td>N</td>\n",
       "      <td>The Garfield Movie</td>\n",
       "      <td>Sony Pictures</td>\n",
       "      <td>37572331.0</td>\n",
       "      <td></td>\n",
       "      <td>4035</td>\n",
       "      <td></td>\n",
       "      <td>9312.0</td>\n",
       "      <td>37572331.0</td>\n",
       "      <td>1</td>\n",
       "    </tr>\n",
       "    <tr>\n",
       "      <th>49</th>\n",
       "      <td>7</td>\n",
       "      <td>N</td>\n",
       "      <td>Sight</td>\n",
       "      <td>Angel Studios</td>\n",
       "      <td>4803110.0</td>\n",
       "      <td></td>\n",
       "      <td>2100</td>\n",
       "      <td></td>\n",
       "      <td>2287.0</td>\n",
       "      <td>4803110.0</td>\n",
       "      <td>1</td>\n",
       "    </tr>\n",
       "    <tr>\n",
       "      <th>50</th>\n",
       "      <td>30</td>\n",
       "      <td>N</td>\n",
       "      <td>Daaaaaali!</td>\n",
       "      <td>Mongrel Media</td>\n",
       "      <td>17254.0</td>\n",
       "      <td></td>\n",
       "      <td>6</td>\n",
       "      <td></td>\n",
       "      <td>2876.0</td>\n",
       "      <td>17254.0</td>\n",
       "      <td>1</td>\n",
       "    </tr>\n",
       "    <tr>\n",
       "      <th>51</th>\n",
       "      <td>38</td>\n",
       "      <td>N</td>\n",
       "      <td>Solo</td>\n",
       "      <td>Music Box Films</td>\n",
       "      <td>3564.0</td>\n",
       "      <td></td>\n",
       "      <td>3</td>\n",
       "      <td></td>\n",
       "      <td>1188.0</td>\n",
       "      <td>3564.0</td>\n",
       "      <td>1</td>\n",
       "    </tr>\n",
       "    <tr>\n",
       "      <th>52</th>\n",
       "      <td>19</td>\n",
       "      <td>(-)</td>\n",
       "      <td>Spider-Man: Far From Home Extended Cut</td>\n",
       "      <td>Sony Pictures</td>\n",
       "      <td>346971.0</td>\n",
       "      <td></td>\n",
       "      <td>466</td>\n",
       "      <td></td>\n",
       "      <td>745.0</td>\n",
       "      <td>390879056.0</td>\n",
       "      <td>257</td>\n",
       "    </tr>\n",
       "    <tr>\n",
       "      <th>53</th>\n",
       "      <td>48</td>\n",
       "      <td>(-)</td>\n",
       "      <td>Ennio</td>\n",
       "      <td>Music Box Films</td>\n",
       "      <td>940.0</td>\n",
       "      <td></td>\n",
       "      <td>1</td>\n",
       "      <td></td>\n",
       "      <td>940.0</td>\n",
       "      <td>78685.0</td>\n",
       "      <td>16</td>\n",
       "    </tr>\n",
       "    <tr>\n",
       "      <th>54</th>\n",
       "      <td>51</td>\n",
       "      <td>(-)</td>\n",
       "      <td>On The Adamant</td>\n",
       "      <td>Kino Lorber</td>\n",
       "      <td>501.0</td>\n",
       "      <td></td>\n",
       "      <td>2</td>\n",
       "      <td></td>\n",
       "      <td>251.0</td>\n",
       "      <td>18332.0</td>\n",
       "      <td>11</td>\n",
       "    </tr>\n",
       "    <tr>\n",
       "      <th>55</th>\n",
       "      <td>55</td>\n",
       "      <td>(-)</td>\n",
       "      <td>Bushman</td>\n",
       "      <td>Kino Lorber</td>\n",
       "      <td>305.0</td>\n",
       "      <td></td>\n",
       "      <td>1</td>\n",
       "      <td></td>\n",
       "      <td>305.0</td>\n",
       "      <td>31380.0</td>\n",
       "      <td>17</td>\n",
       "    </tr>\n",
       "    <tr>\n",
       "      <th>56</th>\n",
       "      <td>56</td>\n",
       "      <td>(-)</td>\n",
       "      <td>The Invisible Fight</td>\n",
       "      <td>Kino Lorber</td>\n",
       "      <td>213.0</td>\n",
       "      <td></td>\n",
       "      <td>1</td>\n",
       "      <td></td>\n",
       "      <td>213.0</td>\n",
       "      <td>14861.0</td>\n",
       "      <td>14</td>\n",
       "    </tr>\n",
       "  </tbody>\n",
       "</table>\n",
       "</div>"
      ],
      "text/plain": [
       "         .1                                       Movie Title  \\\n",
       "0    3   -1                                                IF   \n",
       "1    4   -2                 Kingdom of the Planet of the Apes   \n",
       "2    6   -3                          The Strangers: Chapter 1   \n",
       "3    5   -4                                      The Fall Guy   \n",
       "4    8   -5                                       Challengers   \n",
       "5    9   -6                                     Back to Black   \n",
       "6   11   -7                                             Tarot   \n",
       "7   13   -8                   Godzilla x Kong: The New Empire   \n",
       "8   18   -9                                   The Blue Angels   \n",
       "9   12  -10                                 I Saw the TV Glow   \n",
       "10  14  -11                                       Unsung Hero   \n",
       "11  15  -12                                         Civil War   \n",
       "12  17  -13                                   Kung Fu Panda 4   \n",
       "13  16  -14                       Ghostbusters: Frozen Empire   \n",
       "14  24  -15                                           Abigail   \n",
       "15  22  -17             The Ministry of Ungentlemanly Warfare   \n",
       "16  26  -18               Star Wars Ep. I: The Phantom Menace   \n",
       "17  10  -19                                             Babes   \n",
       "18  20  -20                               Evil Does Not Exist   \n",
       "19  21  -21                                           Wildcat   \n",
       "20  23  -22                           The Roundup: Punishment   \n",
       "21  28  -23                                    The First Omen   \n",
       "22  25  -24                             Wicked Little Letters   \n",
       "23  32  -25                          Spy x Family Code: White   \n",
       "24  33  -27                                       Irena’s Vow   \n",
       "25  35  -28                                       Aggro Dr1ft   \n",
       "26  27  -29                                        La chimera   \n",
       "27  34  -30                               Hundreds of Beavers   \n",
       "28  29  -31                                       The Old Oak   \n",
       "29  31  -32                                     Taking Venice   \n",
       "30  36  -33                                         The Beast   \n",
       "31  43  -36  The Feeling That the Time for Doing Something H…   \n",
       "32  45  -37                                      We Grown Now   \n",
       "33  42  -39                         Late Night with the Devil   \n",
       "34  39  -40                                        Hard Miles   \n",
       "35  47  -43                                  Gasoline Rainbow   \n",
       "36  44  -44            Indigo Girls: It’s Only Life After All   \n",
       "37  37  -45                             The Lavender Hill Mob   \n",
       "38  41  -46                                        Nostalghia   \n",
       "39  40  -48                           Remembering Gene Wilder   \n",
       "40  49  -50                                             Limbo   \n",
       "41  46  -52                                        Lost Soulz   \n",
       "42  52  -55                                   Boy Kills World   \n",
       "43  50  -56      Catching Fire: The Story of Anita Pallenberg   \n",
       "44  54  -58                                             Femme   \n",
       "45  53  -60                                              Omen   \n",
       "46  57  -61                                      Golden Years   \n",
       "47   1    N                           Furiosa: A Mad Max Saga   \n",
       "48   2    N                                The Garfield Movie   \n",
       "49   7    N                                             Sight   \n",
       "50  30    N                                        Daaaaaali!   \n",
       "51  38    N                                              Solo   \n",
       "52  19  (-)            Spider-Man: Far From Home Extended Cut   \n",
       "53  48  (-)                                             Ennio   \n",
       "54  51  (-)                                    On The Adamant   \n",
       "55  55  (-)                                           Bushman   \n",
       "56  56  (-)                               The Invisible Fight   \n",
       "\n",
       "        Distributor       Gross   %LW  Theaters TheatersChange  PerTheater  \\\n",
       "0     Paramount Pi…  27062158.0 -0.36      4068             27      6652.0   \n",
       "1     20th Century…  21746807.0 -0.36      3550           -525      6126.0   \n",
       "2         Lionsgate   9031852.0 -0.43      2856            n/c      3162.0   \n",
       "3         Universal   9794020.0 -0.17      2955           -890      3314.0   \n",
       "4     Amazon MGM S…   2530784.0 -0.44      1089           -849      2324.0   \n",
       "5    Focus Features   1853990.0 -0.52      2013              3       921.0   \n",
       "6     Sony Pictures   1210703.0 -0.57       864          -1470      1401.0   \n",
       "7      Warner Bros.    949860.0 -0.57       664          -1109      1431.0   \n",
       "8     Amazon MGM S…    396292.0 -0.81       450            223       881.0   \n",
       "9               A24   1073208.0 -0.36       469            n/c      2288.0   \n",
       "10        Lionsgate    550668.0 -0.64       530          -1206      1039.0   \n",
       "11              A24    547494.0 -0.63      1112            n/c       492.0   \n",
       "12        Universal    406990.0 -0.69       485           -952       839.0   \n",
       "13    Sony Pictures    473386.0 -0.17       228           -591      2076.0   \n",
       "14        Universal     86525.0 -0.84       109           -585       794.0   \n",
       "15        Lionsgate    100453.0 -0.71       100           -305      1005.0   \n",
       "16    20th Century…     44118.0 -0.81        70           -260       630.0   \n",
       "17             Neon   1622694.0  6.12       595            583      2727.0   \n",
       "18      Janus Films    176549.0 -0.06       138             35      1279.0   \n",
       "19    Oscilloscope…    129752.0 -0.21       104            -10      1248.0   \n",
       "20    Capelight Pi…     93118.0 -0.42        18            -16      5173.0   \n",
       "21    20th Century…     23165.0 -0.84        95            -55       244.0   \n",
       "22    Sony Picture…     59034.0 -0.52        46            -86      1283.0   \n",
       "23      Crunchyroll     13067.0 -0.73        10            -24      1307.0   \n",
       "24           Quiver     12482.0 -0.65        51            n/c       245.0   \n",
       "25           EDGLRD      6091.0 -0.83         8            -20       761.0   \n",
       "26             Neon     38395.0  0.15        15             -5      2560.0   \n",
       "27              SRH     10082.0 -0.55        10             -7      1008.0   \n",
       "28        Zeitgeist     17607.0 -0.18        17            -11      1036.0   \n",
       "29        Zeitgeist     13545.0  0.38         9              8      1505.0   \n",
       "30      Janus Films      5549.0 -0.41        19            -13       292.0   \n",
       "31    Magnolia Pic…      2201.0  -0.7         5            -12       440.0   \n",
       "32    Sony Picture…      1789.0 -0.75         2             -7       895.0   \n",
       "33        IFC Films      2360.0 -0.61         8             -5       295.0   \n",
       "34    Blue Fox Ent…      3349.0 -0.42         6             -3       558.0   \n",
       "35             MUBI      1247.0 -0.72        10            -10       125.0   \n",
       "36    Oscilloscope…      2013.0 -0.49         5              1       403.0   \n",
       "37  Rialto Pictures      3795.0  0.09         2              1      1898.0   \n",
       "38      Kino Lorber      2613.0 -0.08         3              1       871.0   \n",
       "39      Kino Lorber      2931.0  0.26         3             -6       977.0   \n",
       "40  Music Box Films       788.0 -0.57         1             -2       788.0   \n",
       "41      Kino Lorber      1590.0  0.09         5              1       318.0   \n",
       "42    Roadside Att…       476.0 -0.49         2             -5       238.0   \n",
       "43    Magnolia Pic…       712.0 -0.16         2            n/c       356.0   \n",
       "44           Utopia       424.0 -0.42         1             -2       424.0   \n",
       "45           Utopia       467.0  0.04         1            n/c       467.0   \n",
       "46  Music Box Films       193.0 -0.28         1            n/c       193.0   \n",
       "47     Warner Bros.  38917619.0            3804                    10231.0   \n",
       "48    Sony Pictures  37572331.0            4035                     9312.0   \n",
       "49    Angel Studios   4803110.0            2100                     2287.0   \n",
       "50    Mongrel Media     17254.0               6                     2876.0   \n",
       "51  Music Box Films      3564.0               3                     1188.0   \n",
       "52    Sony Pictures    346971.0             466                      745.0   \n",
       "53  Music Box Films       940.0               1                      940.0   \n",
       "54      Kino Lorber       501.0               2                      251.0   \n",
       "55      Kino Lorber       305.0               1                      305.0   \n",
       "56      Kino Lorber       213.0               1                      213.0   \n",
       "\n",
       "     TotalGross  Weeks InRelease  \n",
       "0    69628950.0                2  \n",
       "1   131196059.0                3  \n",
       "2    24765840.0                2  \n",
       "3    76085405.0                4  \n",
       "4    47625544.0                5  \n",
       "5     5753010.0                2  \n",
       "6    17489392.0                4  \n",
       "7   195856493.0                9  \n",
       "8     2478619.0                2  \n",
       "9     3217136.0                4  \n",
       "10   20064357.0                5  \n",
       "11   68259430.0                7  \n",
       "12  193425355.0               12  \n",
       "13  112748155.0               10  \n",
       "14   25867515.0                6  \n",
       "15   20535053.0                6  \n",
       "16  487574671.0             1307  \n",
       "17    1850493.0                2  \n",
       "18     587692.0                4  \n",
       "19     435218.0                4  \n",
       "20    1044487.0                5  \n",
       "21   20092802.0                8  \n",
       "22    4912792.0                9  \n",
       "23    8110042.0                6  \n",
       "24    1188493.0                7  \n",
       "25     180083.0                3  \n",
       "26     860266.0                9  \n",
       "27     386079.0               18  \n",
       "28     216706.0                8  \n",
       "29      37496.0                2  \n",
       "30     397528.0                8  \n",
       "31      76887.0                5  \n",
       "32     291705.0                6  \n",
       "33    9962832.0               10  \n",
       "34     380545.0                6  \n",
       "35      29068.0                3  \n",
       "36     222779.0                8  \n",
       "37      16361.0             3790  \n",
       "38     227270.0              574  \n",
       "39     152549.0               11  \n",
       "40      43897.0               10  \n",
       "41      23102.0                4  \n",
       "42    2626127.0                5  \n",
       "43      14089.0                4  \n",
       "44     186656.0               10  \n",
       "45      10004.0                7  \n",
       "46      16808.0               14  \n",
       "47   38917619.0                1  \n",
       "48   37572331.0                1  \n",
       "49    4803110.0                1  \n",
       "50      17254.0                1  \n",
       "51       3564.0                1  \n",
       "52  390879056.0              257  \n",
       "53      78685.0               16  \n",
       "54      18332.0               11  \n",
       "55      31380.0               17  \n",
       "56      14861.0               14  "
      ]
     },
     "execution_count": 10,
     "metadata": {},
     "output_type": "execute_result"
    }
   ],
   "source": [
    "import pandas as pd\n",
    "df = pd.read_excel('Movie.excel.ods')\n",
    "df"
   ]
  },
  {
   "cell_type": "markdown",
   "metadata": {},
   "source": [
    "# Dataset analysis - find 'info' about this movie dataset"
   ]
  },
  {
   "cell_type": "code",
   "execution_count": 11,
   "metadata": {},
   "outputs": [
    {
     "data": {
      "text/plain": [
       "<bound method DataFrame.info of          .1                                       Movie Title  \\\n",
       "0    3   -1                                                IF   \n",
       "1    4   -2                 Kingdom of the Planet of the Apes   \n",
       "2    6   -3                          The Strangers: Chapter 1   \n",
       "3    5   -4                                      The Fall Guy   \n",
       "4    8   -5                                       Challengers   \n",
       "5    9   -6                                     Back to Black   \n",
       "6   11   -7                                             Tarot   \n",
       "7   13   -8                   Godzilla x Kong: The New Empire   \n",
       "8   18   -9                                   The Blue Angels   \n",
       "9   12  -10                                 I Saw the TV Glow   \n",
       "10  14  -11                                       Unsung Hero   \n",
       "11  15  -12                                         Civil War   \n",
       "12  17  -13                                   Kung Fu Panda 4   \n",
       "13  16  -14                       Ghostbusters: Frozen Empire   \n",
       "14  24  -15                                           Abigail   \n",
       "15  22  -17             The Ministry of Ungentlemanly Warfare   \n",
       "16  26  -18               Star Wars Ep. I: The Phantom Menace   \n",
       "17  10  -19                                             Babes   \n",
       "18  20  -20                               Evil Does Not Exist   \n",
       "19  21  -21                                           Wildcat   \n",
       "20  23  -22                           The Roundup: Punishment   \n",
       "21  28  -23                                    The First Omen   \n",
       "22  25  -24                             Wicked Little Letters   \n",
       "23  32  -25                          Spy x Family Code: White   \n",
       "24  33  -27                                       Irena’s Vow   \n",
       "25  35  -28                                       Aggro Dr1ft   \n",
       "26  27  -29                                        La chimera   \n",
       "27  34  -30                               Hundreds of Beavers   \n",
       "28  29  -31                                       The Old Oak   \n",
       "29  31  -32                                     Taking Venice   \n",
       "30  36  -33                                         The Beast   \n",
       "31  43  -36  The Feeling That the Time for Doing Something H…   \n",
       "32  45  -37                                      We Grown Now   \n",
       "33  42  -39                         Late Night with the Devil   \n",
       "34  39  -40                                        Hard Miles   \n",
       "35  47  -43                                  Gasoline Rainbow   \n",
       "36  44  -44            Indigo Girls: It’s Only Life After All   \n",
       "37  37  -45                             The Lavender Hill Mob   \n",
       "38  41  -46                                        Nostalghia   \n",
       "39  40  -48                           Remembering Gene Wilder   \n",
       "40  49  -50                                             Limbo   \n",
       "41  46  -52                                        Lost Soulz   \n",
       "42  52  -55                                   Boy Kills World   \n",
       "43  50  -56      Catching Fire: The Story of Anita Pallenberg   \n",
       "44  54  -58                                             Femme   \n",
       "45  53  -60                                              Omen   \n",
       "46  57  -61                                      Golden Years   \n",
       "47   1    N                           Furiosa: A Mad Max Saga   \n",
       "48   2    N                                The Garfield Movie   \n",
       "49   7    N                                             Sight   \n",
       "50  30    N                                        Daaaaaali!   \n",
       "51  38    N                                              Solo   \n",
       "52  19  (-)            Spider-Man: Far From Home Extended Cut   \n",
       "53  48  (-)                                             Ennio   \n",
       "54  51  (-)                                    On The Adamant   \n",
       "55  55  (-)                                           Bushman   \n",
       "56  56  (-)                               The Invisible Fight   \n",
       "\n",
       "        Distributor       Gross   %LW  Theaters TheatersChange  PerTheater  \\\n",
       "0     Paramount Pi…  27062158.0 -0.36      4068             27      6652.0   \n",
       "1     20th Century…  21746807.0 -0.36      3550           -525      6126.0   \n",
       "2         Lionsgate   9031852.0 -0.43      2856            n/c      3162.0   \n",
       "3         Universal   9794020.0 -0.17      2955           -890      3314.0   \n",
       "4     Amazon MGM S…   2530784.0 -0.44      1089           -849      2324.0   \n",
       "5    Focus Features   1853990.0 -0.52      2013              3       921.0   \n",
       "6     Sony Pictures   1210703.0 -0.57       864          -1470      1401.0   \n",
       "7      Warner Bros.    949860.0 -0.57       664          -1109      1431.0   \n",
       "8     Amazon MGM S…    396292.0 -0.81       450            223       881.0   \n",
       "9               A24   1073208.0 -0.36       469            n/c      2288.0   \n",
       "10        Lionsgate    550668.0 -0.64       530          -1206      1039.0   \n",
       "11              A24    547494.0 -0.63      1112            n/c       492.0   \n",
       "12        Universal    406990.0 -0.69       485           -952       839.0   \n",
       "13    Sony Pictures    473386.0 -0.17       228           -591      2076.0   \n",
       "14        Universal     86525.0 -0.84       109           -585       794.0   \n",
       "15        Lionsgate    100453.0 -0.71       100           -305      1005.0   \n",
       "16    20th Century…     44118.0 -0.81        70           -260       630.0   \n",
       "17             Neon   1622694.0  6.12       595            583      2727.0   \n",
       "18      Janus Films    176549.0 -0.06       138             35      1279.0   \n",
       "19    Oscilloscope…    129752.0 -0.21       104            -10      1248.0   \n",
       "20    Capelight Pi…     93118.0 -0.42        18            -16      5173.0   \n",
       "21    20th Century…     23165.0 -0.84        95            -55       244.0   \n",
       "22    Sony Picture…     59034.0 -0.52        46            -86      1283.0   \n",
       "23      Crunchyroll     13067.0 -0.73        10            -24      1307.0   \n",
       "24           Quiver     12482.0 -0.65        51            n/c       245.0   \n",
       "25           EDGLRD      6091.0 -0.83         8            -20       761.0   \n",
       "26             Neon     38395.0  0.15        15             -5      2560.0   \n",
       "27              SRH     10082.0 -0.55        10             -7      1008.0   \n",
       "28        Zeitgeist     17607.0 -0.18        17            -11      1036.0   \n",
       "29        Zeitgeist     13545.0  0.38         9              8      1505.0   \n",
       "30      Janus Films      5549.0 -0.41        19            -13       292.0   \n",
       "31    Magnolia Pic…      2201.0  -0.7         5            -12       440.0   \n",
       "32    Sony Picture…      1789.0 -0.75         2             -7       895.0   \n",
       "33        IFC Films      2360.0 -0.61         8             -5       295.0   \n",
       "34    Blue Fox Ent…      3349.0 -0.42         6             -3       558.0   \n",
       "35             MUBI      1247.0 -0.72        10            -10       125.0   \n",
       "36    Oscilloscope…      2013.0 -0.49         5              1       403.0   \n",
       "37  Rialto Pictures      3795.0  0.09         2              1      1898.0   \n",
       "38      Kino Lorber      2613.0 -0.08         3              1       871.0   \n",
       "39      Kino Lorber      2931.0  0.26         3             -6       977.0   \n",
       "40  Music Box Films       788.0 -0.57         1             -2       788.0   \n",
       "41      Kino Lorber      1590.0  0.09         5              1       318.0   \n",
       "42    Roadside Att…       476.0 -0.49         2             -5       238.0   \n",
       "43    Magnolia Pic…       712.0 -0.16         2            n/c       356.0   \n",
       "44           Utopia       424.0 -0.42         1             -2       424.0   \n",
       "45           Utopia       467.0  0.04         1            n/c       467.0   \n",
       "46  Music Box Films       193.0 -0.28         1            n/c       193.0   \n",
       "47     Warner Bros.  38917619.0            3804                    10231.0   \n",
       "48    Sony Pictures  37572331.0            4035                     9312.0   \n",
       "49    Angel Studios   4803110.0            2100                     2287.0   \n",
       "50    Mongrel Media     17254.0               6                     2876.0   \n",
       "51  Music Box Films      3564.0               3                     1188.0   \n",
       "52    Sony Pictures    346971.0             466                      745.0   \n",
       "53  Music Box Films       940.0               1                      940.0   \n",
       "54      Kino Lorber       501.0               2                      251.0   \n",
       "55      Kino Lorber       305.0               1                      305.0   \n",
       "56      Kino Lorber       213.0               1                      213.0   \n",
       "\n",
       "     TotalGross  Weeks InRelease  \n",
       "0    69628950.0                2  \n",
       "1   131196059.0                3  \n",
       "2    24765840.0                2  \n",
       "3    76085405.0                4  \n",
       "4    47625544.0                5  \n",
       "5     5753010.0                2  \n",
       "6    17489392.0                4  \n",
       "7   195856493.0                9  \n",
       "8     2478619.0                2  \n",
       "9     3217136.0                4  \n",
       "10   20064357.0                5  \n",
       "11   68259430.0                7  \n",
       "12  193425355.0               12  \n",
       "13  112748155.0               10  \n",
       "14   25867515.0                6  \n",
       "15   20535053.0                6  \n",
       "16  487574671.0             1307  \n",
       "17    1850493.0                2  \n",
       "18     587692.0                4  \n",
       "19     435218.0                4  \n",
       "20    1044487.0                5  \n",
       "21   20092802.0                8  \n",
       "22    4912792.0                9  \n",
       "23    8110042.0                6  \n",
       "24    1188493.0                7  \n",
       "25     180083.0                3  \n",
       "26     860266.0                9  \n",
       "27     386079.0               18  \n",
       "28     216706.0                8  \n",
       "29      37496.0                2  \n",
       "30     397528.0                8  \n",
       "31      76887.0                5  \n",
       "32     291705.0                6  \n",
       "33    9962832.0               10  \n",
       "34     380545.0                6  \n",
       "35      29068.0                3  \n",
       "36     222779.0                8  \n",
       "37      16361.0             3790  \n",
       "38     227270.0              574  \n",
       "39     152549.0               11  \n",
       "40      43897.0               10  \n",
       "41      23102.0                4  \n",
       "42    2626127.0                5  \n",
       "43      14089.0                4  \n",
       "44     186656.0               10  \n",
       "45      10004.0                7  \n",
       "46      16808.0               14  \n",
       "47   38917619.0                1  \n",
       "48   37572331.0                1  \n",
       "49    4803110.0                1  \n",
       "50      17254.0                1  \n",
       "51       3564.0                1  \n",
       "52  390879056.0              257  \n",
       "53      78685.0               16  \n",
       "54      18332.0               11  \n",
       "55      31380.0               17  \n",
       "56      14861.0               14  >"
      ]
     },
     "execution_count": 11,
     "metadata": {},
     "output_type": "execute_result"
    }
   ],
   "source": [
    "df.info"
   ]
  },
  {
   "cell_type": "markdown",
   "metadata": {},
   "source": [
    "# Find null values "
   ]
  },
  {
   "cell_type": "code",
   "execution_count": 12,
   "metadata": {},
   "outputs": [
    {
     "data": {
      "text/plain": [
       "                   0\n",
       " .1                0\n",
       "Movie Title        0\n",
       "Distributor        0\n",
       "Gross              0\n",
       "%LW                0\n",
       "Theaters           0\n",
       "TheatersChange     0\n",
       "PerTheater         0\n",
       "TotalGross         0\n",
       "Weeks InRelease    0\n",
       "dtype: int64"
      ]
     },
     "execution_count": 12,
     "metadata": {},
     "output_type": "execute_result"
    }
   ],
   "source": [
    "df.isnull().sum()"
   ]
  },
  {
   "cell_type": "code",
   "execution_count": 13,
   "metadata": {},
   "outputs": [
    {
     "data": {
      "text/plain": [
       "<bound method NDFrame.head of          .1                                       Movie Title  \\\n",
       "0    3   -1                                                IF   \n",
       "1    4   -2                 Kingdom of the Planet of the Apes   \n",
       "2    6   -3                          The Strangers: Chapter 1   \n",
       "3    5   -4                                      The Fall Guy   \n",
       "4    8   -5                                       Challengers   \n",
       "5    9   -6                                     Back to Black   \n",
       "6   11   -7                                             Tarot   \n",
       "7   13   -8                   Godzilla x Kong: The New Empire   \n",
       "8   18   -9                                   The Blue Angels   \n",
       "9   12  -10                                 I Saw the TV Glow   \n",
       "10  14  -11                                       Unsung Hero   \n",
       "11  15  -12                                         Civil War   \n",
       "12  17  -13                                   Kung Fu Panda 4   \n",
       "13  16  -14                       Ghostbusters: Frozen Empire   \n",
       "14  24  -15                                           Abigail   \n",
       "15  22  -17             The Ministry of Ungentlemanly Warfare   \n",
       "16  26  -18               Star Wars Ep. I: The Phantom Menace   \n",
       "17  10  -19                                             Babes   \n",
       "18  20  -20                               Evil Does Not Exist   \n",
       "19  21  -21                                           Wildcat   \n",
       "20  23  -22                           The Roundup: Punishment   \n",
       "21  28  -23                                    The First Omen   \n",
       "22  25  -24                             Wicked Little Letters   \n",
       "23  32  -25                          Spy x Family Code: White   \n",
       "24  33  -27                                       Irena’s Vow   \n",
       "25  35  -28                                       Aggro Dr1ft   \n",
       "26  27  -29                                        La chimera   \n",
       "27  34  -30                               Hundreds of Beavers   \n",
       "28  29  -31                                       The Old Oak   \n",
       "29  31  -32                                     Taking Venice   \n",
       "30  36  -33                                         The Beast   \n",
       "31  43  -36  The Feeling That the Time for Doing Something H…   \n",
       "32  45  -37                                      We Grown Now   \n",
       "33  42  -39                         Late Night with the Devil   \n",
       "34  39  -40                                        Hard Miles   \n",
       "35  47  -43                                  Gasoline Rainbow   \n",
       "36  44  -44            Indigo Girls: It’s Only Life After All   \n",
       "37  37  -45                             The Lavender Hill Mob   \n",
       "38  41  -46                                        Nostalghia   \n",
       "39  40  -48                           Remembering Gene Wilder   \n",
       "40  49  -50                                             Limbo   \n",
       "41  46  -52                                        Lost Soulz   \n",
       "42  52  -55                                   Boy Kills World   \n",
       "43  50  -56      Catching Fire: The Story of Anita Pallenberg   \n",
       "44  54  -58                                             Femme   \n",
       "45  53  -60                                              Omen   \n",
       "46  57  -61                                      Golden Years   \n",
       "47   1    N                           Furiosa: A Mad Max Saga   \n",
       "48   2    N                                The Garfield Movie   \n",
       "49   7    N                                             Sight   \n",
       "50  30    N                                        Daaaaaali!   \n",
       "51  38    N                                              Solo   \n",
       "52  19  (-)            Spider-Man: Far From Home Extended Cut   \n",
       "53  48  (-)                                             Ennio   \n",
       "54  51  (-)                                    On The Adamant   \n",
       "55  55  (-)                                           Bushman   \n",
       "56  56  (-)                               The Invisible Fight   \n",
       "\n",
       "        Distributor       Gross   %LW  Theaters TheatersChange  PerTheater  \\\n",
       "0     Paramount Pi…  27062158.0 -0.36      4068             27      6652.0   \n",
       "1     20th Century…  21746807.0 -0.36      3550           -525      6126.0   \n",
       "2         Lionsgate   9031852.0 -0.43      2856            n/c      3162.0   \n",
       "3         Universal   9794020.0 -0.17      2955           -890      3314.0   \n",
       "4     Amazon MGM S…   2530784.0 -0.44      1089           -849      2324.0   \n",
       "5    Focus Features   1853990.0 -0.52      2013              3       921.0   \n",
       "6     Sony Pictures   1210703.0 -0.57       864          -1470      1401.0   \n",
       "7      Warner Bros.    949860.0 -0.57       664          -1109      1431.0   \n",
       "8     Amazon MGM S…    396292.0 -0.81       450            223       881.0   \n",
       "9               A24   1073208.0 -0.36       469            n/c      2288.0   \n",
       "10        Lionsgate    550668.0 -0.64       530          -1206      1039.0   \n",
       "11              A24    547494.0 -0.63      1112            n/c       492.0   \n",
       "12        Universal    406990.0 -0.69       485           -952       839.0   \n",
       "13    Sony Pictures    473386.0 -0.17       228           -591      2076.0   \n",
       "14        Universal     86525.0 -0.84       109           -585       794.0   \n",
       "15        Lionsgate    100453.0 -0.71       100           -305      1005.0   \n",
       "16    20th Century…     44118.0 -0.81        70           -260       630.0   \n",
       "17             Neon   1622694.0  6.12       595            583      2727.0   \n",
       "18      Janus Films    176549.0 -0.06       138             35      1279.0   \n",
       "19    Oscilloscope…    129752.0 -0.21       104            -10      1248.0   \n",
       "20    Capelight Pi…     93118.0 -0.42        18            -16      5173.0   \n",
       "21    20th Century…     23165.0 -0.84        95            -55       244.0   \n",
       "22    Sony Picture…     59034.0 -0.52        46            -86      1283.0   \n",
       "23      Crunchyroll     13067.0 -0.73        10            -24      1307.0   \n",
       "24           Quiver     12482.0 -0.65        51            n/c       245.0   \n",
       "25           EDGLRD      6091.0 -0.83         8            -20       761.0   \n",
       "26             Neon     38395.0  0.15        15             -5      2560.0   \n",
       "27              SRH     10082.0 -0.55        10             -7      1008.0   \n",
       "28        Zeitgeist     17607.0 -0.18        17            -11      1036.0   \n",
       "29        Zeitgeist     13545.0  0.38         9              8      1505.0   \n",
       "30      Janus Films      5549.0 -0.41        19            -13       292.0   \n",
       "31    Magnolia Pic…      2201.0  -0.7         5            -12       440.0   \n",
       "32    Sony Picture…      1789.0 -0.75         2             -7       895.0   \n",
       "33        IFC Films      2360.0 -0.61         8             -5       295.0   \n",
       "34    Blue Fox Ent…      3349.0 -0.42         6             -3       558.0   \n",
       "35             MUBI      1247.0 -0.72        10            -10       125.0   \n",
       "36    Oscilloscope…      2013.0 -0.49         5              1       403.0   \n",
       "37  Rialto Pictures      3795.0  0.09         2              1      1898.0   \n",
       "38      Kino Lorber      2613.0 -0.08         3              1       871.0   \n",
       "39      Kino Lorber      2931.0  0.26         3             -6       977.0   \n",
       "40  Music Box Films       788.0 -0.57         1             -2       788.0   \n",
       "41      Kino Lorber      1590.0  0.09         5              1       318.0   \n",
       "42    Roadside Att…       476.0 -0.49         2             -5       238.0   \n",
       "43    Magnolia Pic…       712.0 -0.16         2            n/c       356.0   \n",
       "44           Utopia       424.0 -0.42         1             -2       424.0   \n",
       "45           Utopia       467.0  0.04         1            n/c       467.0   \n",
       "46  Music Box Films       193.0 -0.28         1            n/c       193.0   \n",
       "47     Warner Bros.  38917619.0            3804                    10231.0   \n",
       "48    Sony Pictures  37572331.0            4035                     9312.0   \n",
       "49    Angel Studios   4803110.0            2100                     2287.0   \n",
       "50    Mongrel Media     17254.0               6                     2876.0   \n",
       "51  Music Box Films      3564.0               3                     1188.0   \n",
       "52    Sony Pictures    346971.0             466                      745.0   \n",
       "53  Music Box Films       940.0               1                      940.0   \n",
       "54      Kino Lorber       501.0               2                      251.0   \n",
       "55      Kino Lorber       305.0               1                      305.0   \n",
       "56      Kino Lorber       213.0               1                      213.0   \n",
       "\n",
       "     TotalGross  Weeks InRelease  \n",
       "0    69628950.0                2  \n",
       "1   131196059.0                3  \n",
       "2    24765840.0                2  \n",
       "3    76085405.0                4  \n",
       "4    47625544.0                5  \n",
       "5     5753010.0                2  \n",
       "6    17489392.0                4  \n",
       "7   195856493.0                9  \n",
       "8     2478619.0                2  \n",
       "9     3217136.0                4  \n",
       "10   20064357.0                5  \n",
       "11   68259430.0                7  \n",
       "12  193425355.0               12  \n",
       "13  112748155.0               10  \n",
       "14   25867515.0                6  \n",
       "15   20535053.0                6  \n",
       "16  487574671.0             1307  \n",
       "17    1850493.0                2  \n",
       "18     587692.0                4  \n",
       "19     435218.0                4  \n",
       "20    1044487.0                5  \n",
       "21   20092802.0                8  \n",
       "22    4912792.0                9  \n",
       "23    8110042.0                6  \n",
       "24    1188493.0                7  \n",
       "25     180083.0                3  \n",
       "26     860266.0                9  \n",
       "27     386079.0               18  \n",
       "28     216706.0                8  \n",
       "29      37496.0                2  \n",
       "30     397528.0                8  \n",
       "31      76887.0                5  \n",
       "32     291705.0                6  \n",
       "33    9962832.0               10  \n",
       "34     380545.0                6  \n",
       "35      29068.0                3  \n",
       "36     222779.0                8  \n",
       "37      16361.0             3790  \n",
       "38     227270.0              574  \n",
       "39     152549.0               11  \n",
       "40      43897.0               10  \n",
       "41      23102.0                4  \n",
       "42    2626127.0                5  \n",
       "43      14089.0                4  \n",
       "44     186656.0               10  \n",
       "45      10004.0                7  \n",
       "46      16808.0               14  \n",
       "47   38917619.0                1  \n",
       "48   37572331.0                1  \n",
       "49    4803110.0                1  \n",
       "50      17254.0                1  \n",
       "51       3564.0                1  \n",
       "52  390879056.0              257  \n",
       "53      78685.0               16  \n",
       "54      18332.0               11  \n",
       "55      31380.0               17  \n",
       "56      14861.0               14  >"
      ]
     },
     "execution_count": 13,
     "metadata": {},
     "output_type": "execute_result"
    }
   ],
   "source": [
    "df.head"
   ]
  },
  {
   "cell_type": "markdown",
   "metadata": {},
   "source": [
    "# Plot some visual figures to understand this dataset"
   ]
  },
  {
   "cell_type": "code",
   "execution_count": 16,
   "metadata": {},
   "outputs": [
    {
     "data": {
      "text/plain": [
       "<AxesSubplot:xlabel='Weeks InRelease', ylabel='Count'>"
      ]
     },
     "execution_count": 16,
     "metadata": {},
     "output_type": "execute_result"
    },
    {
     "data": {
      "image/png": "[encoded data removed]",
      "text/plain": [
       "<Figure size 1080x1440 with 1 Axes>"
      ]
     },
     "metadata": {
      "needs_background": "light"
     },
     "output_type": "display_data"
    }
   ],
   "source": [
    "import matplotlib.pyplot as plt\n",
    "import seaborn as sns\n",
    "\n",
    "\n",
    "plt.figure(figsize=(15,20))\n",
    "sns.histplot(df['Weeks InRelease'],kde=True)"
   ]
  },
  {
   "cell_type": "markdown",
   "metadata": {},
   "source": [
    "# Line gragh "
   ]
  },
  {
   "cell_type": "code",
   "execution_count": 17,
   "metadata": {},
   "outputs": [
    {
     "data": {
      "application/vnd.plotly.v1+json": {
       "config": {
        "plotlyServerURL": "https://plot.ly"
       },
       "data": [
        {
         "hovertemplate": "x=%{x}<br>index=%{y}<extra></extra>",
         "legendgroup": "",
         "line": {
          "color": "#636efa",
          "dash": "solid"
         },
         "marker": {
          "symbol": "circle"
         },
         "mode": "lines",
         "name": "",
         "orientation": "h",
         "showlegend": false,
         "type": "scatter",
         "x": [
          1,
          2,
          3,
          4
         ],
         "xaxis": "x",
         "y": [
          0,
          1,
          2,
          3
         ],
         "yaxis": "y"
        }
       ],
       "layout": {
        "legend": {
         "tracegroupgap": 0
        },
        "margin": {
         "t": 60
        },
        "template": {
         "data": {
          "bar": [
           {
            "error_x": {
             "color": "#2a3f5f"
            },
            "error_y": {
             "color": "#2a3f5f"
            },
            "marker": {
             "line": {
              "color": "#E5ECF6",
              "width": 0.5
             },
             "pattern": {
              "fillmode": "overlay",
              "size": 10,
              "solidity": 0.2
             }
            },
            "type": "bar"
           }
          ],
          "barpolar": [
           {
            "marker": {
             "line": {
              "color": "#E5ECF6",
              "width": 0.5
             },
             "pattern": {
              "fillmode": "overlay",
              "size": 10,
              "solidity": 0.2
             }
            },
            "type": "barpolar"
           }
          ],
          "carpet": [
           {
            "aaxis": {
             "endlinecolor": "#2a3f5f",
             "gridcolor": "white",
             "linecolor": "white",
             "minorgridcolor": "white",
             "startlinecolor": "#2a3f5f"
            },
            "baxis": {
             "endlinecolor": "#2a3f5f",
             "gridcolor": "white",
             "linecolor": "white",
             "minorgridcolor": "white",
             "startlinecolor": "#2a3f5f"
            },
            "type": "carpet"
           }
          ],
          "choropleth": [
           {
            "colorbar": {
             "outlinewidth": 0,
             "ticks": ""
            },
            "type": "choropleth"
           }
          ],
          "contour": [
           {
            "colorbar": {
             "outlinewidth": 0,
             "ticks": ""
            },
            "colorscale": [
             [
              0,
              "#0d0887"
             ],
             [
              0.1111111111111111,
              "#46039f"
             ],
             [
              0.2222222222222222,
              "#7201a8"
             ],
             [
              0.3333333333333333,
              "#9c179e"
             ],
             [
              0.4444444444444444,
              "#bd3786"
             ],
             [
              0.5555555555555556,
              "#d8576b"
             ],
             [
              0.6666666666666666,
              "#ed7953"
             ],
             [
              0.7777777777777778,
              "#fb9f3a"
             ],
             [
              0.8888888888888888,
              "#fdca26"
             ],
             [
              1,
              "#f0f921"
             ]
            ],
            "type": "contour"
           }
          ],
          "contourcarpet": [
           {
            "colorbar": {
             "outlinewidth": 0,
             "ticks": ""
            },
            "type": "contourcarpet"
           }
          ],
          "heatmap": [
           {
            "colorbar": {
             "outlinewidth": 0,
             "ticks": ""
            },
            "colorscale": [
             [
              0,
              "#0d0887"
             ],
             [
              0.1111111111111111,
              "#46039f"
             ],
             [
              0.2222222222222222,
              "#7201a8"
             ],
             [
              0.3333333333333333,
              "#9c179e"
             ],
             [
              0.4444444444444444,
              "#bd3786"
             ],
             [
              0.5555555555555556,
              "#d8576b"
             ],
             [
              0.6666666666666666,
              "#ed7953"
             ],
             [
              0.7777777777777778,
              "#fb9f3a"
             ],
             [
              0.8888888888888888,
              "#fdca26"
             ],
             [
              1,
              "#f0f921"
             ]
            ],
            "type": "heatmap"
           }
          ],
          "heatmapgl": [
           {
            "colorbar": {
             "outlinewidth": 0,
             "ticks": ""
            },
            "colorscale": [
             [
              0,
              "#0d0887"
             ],
             [
              0.1111111111111111,
              "#46039f"
             ],
             [
              0.2222222222222222,
              "#7201a8"
             ],
             [
              0.3333333333333333,
              "#9c179e"
             ],
             [
              0.4444444444444444,
              "#bd3786"
             ],
             [
              0.5555555555555556,
              "#d8576b"
             ],
             [
              0.6666666666666666,
              "#ed7953"
             ],
             [
              0.7777777777777778,
              "#fb9f3a"
             ],
             [
              0.8888888888888888,
              "#fdca26"
             ],
             [
              1,
              "#f0f921"
             ]
            ],
            "type": "heatmapgl"
           }
          ],
          "histogram": [
           {
            "marker": {
             "pattern": {
              "fillmode": "overlay",
              "size": 10,
              "solidity": 0.2
             }
            },
            "type": "histogram"
           }
          ],
          "histogram2d": [
           {
            "colorbar": {
             "outlinewidth": 0,
             "ticks": ""
            },
            "colorscale": [
             [
              0,
              "#0d0887"
             ],
             [
              0.1111111111111111,
              "#46039f"
             ],
             [
              0.2222222222222222,
              "#7201a8"
             ],
             [
              0.3333333333333333,
              "#9c179e"
             ],
             [
              0.4444444444444444,
              "#bd3786"
             ],
             [
              0.5555555555555556,
              "#d8576b"
             ],
             [
              0.6666666666666666,
              "#ed7953"
             ],
             [
              0.7777777777777778,
              "#fb9f3a"
             ],
             [
              0.8888888888888888,
              "#fdca26"
             ],
             [
              1,
              "#f0f921"
             ]
            ],
            "type": "histogram2d"
           }
          ],
          "histogram2dcontour": [
           {
            "colorbar": {
             "outlinewidth": 0,
             "ticks": ""
            },
            "colorscale": [
             [
              0,
              "#0d0887"
             ],
             [
              0.1111111111111111,
              "#46039f"
             ],
             [
              0.2222222222222222,
              "#7201a8"
             ],
             [
              0.3333333333333333,
              "#9c179e"
             ],
             [
              0.4444444444444444,
              "#bd3786"
             ],
             [
              0.5555555555555556,
              "#d8576b"
             ],
             [
              0.6666666666666666,
              "#ed7953"
             ],
             [
              0.7777777777777778,
              "#fb9f3a"
             ],
             [
              0.8888888888888888,
              "#fdca26"
             ],
             [
              1,
              "#f0f921"
             ]
            ],
            "type": "histogram2dcontour"
           }
          ],
          "mesh3d": [
           {
            "colorbar": {
             "outlinewidth": 0,
             "ticks": ""
            },
            "type": "mesh3d"
           }
          ],
          "parcoords": [
           {
            "line": {
             "colorbar": {
              "outlinewidth": 0,
              "ticks": ""
             }
            },
            "type": "parcoords"
           }
          ],
          "pie": [
           {
            "automargin": true,
            "type": "pie"
           }
          ],
          "scatter": [
           {
            "fillpattern": {
             "fillmode": "overlay",
             "size": 10,
             "solidity": 0.2
            },
            "type": "scatter"
           }
          ],
          "scatter3d": [
           {
            "line": {
             "colorbar": {
              "outlinewidth": 0,
              "ticks": ""
             }
            },
            "marker": {
             "colorbar": {
              "outlinewidth": 0,
              "ticks": ""
             }
            },
            "type": "scatter3d"
           }
          ],
          "scattercarpet": [
           {
            "marker": {
             "colorbar": {
              "outlinewidth": 0,
              "ticks": ""
             }
            },
            "type": "scattercarpet"
           }
          ],
          "scattergeo": [
           {
            "marker": {
             "colorbar": {
              "outlinewidth": 0,
              "ticks": ""
             }
            },
            "type": "scattergeo"
           }
          ],
          "scattergl": [
           {
            "marker": {
             "colorbar": {
              "outlinewidth": 0,
              "ticks": ""
             }
            },
            "type": "scattergl"
           }
          ],
          "scattermapbox": [
           {
            "marker": {
             "colorbar": {
              "outlinewidth": 0,
              "ticks": ""
             }
            },
            "type": "scattermapbox"
           }
          ],
          "scatterpolar": [
           {
            "marker": {
             "colorbar": {
              "outlinewidth": 0,
              "ticks": ""
             }
            },
            "type": "scatterpolar"
           }
          ],
          "scatterpolargl": [
           {
            "marker": {
             "colorbar": {
              "outlinewidth": 0,
              "ticks": ""
             }
            },
            "type": "scatterpolargl"
           }
          ],
          "scatterternary": [
           {
            "marker": {
             "colorbar": {
              "outlinewidth": 0,
              "ticks": ""
             }
            },
            "type": "scatterternary"
           }
          ],
          "surface": [
           {
            "colorbar": {
             "outlinewidth": 0,
             "ticks": ""
            },
            "colorscale": [
             [
              0,
              "#0d0887"
             ],
             [
              0.1111111111111111,
              "#46039f"
             ],
             [
              0.2222222222222222,
              "#7201a8"
             ],
             [
              0.3333333333333333,
              "#9c179e"
             ],
             [
              0.4444444444444444,
              "#bd3786"
             ],
             [
              0.5555555555555556,
              "#d8576b"
             ],
             [
              0.6666666666666666,
              "#ed7953"
             ],
             [
              0.7777777777777778,
              "#fb9f3a"
             ],
             [
              0.8888888888888888,
              "#fdca26"
             ],
             [
              1,
              "#f0f921"
             ]
            ],
            "type": "surface"
           }
          ],
          "table": [
           {
            "cells": {
             "fill": {
              "color": "#EBF0F8"
             },
             "line": {
              "color": "white"
             }
            },
            "header": {
             "fill": {
              "color": "#C8D4E3"
             },
             "line": {
              "color": "white"
             }
            },
            "type": "table"
           }
          ]
         },
         "layout": {
          "annotationdefaults": {
           "arrowcolor": "#2a3f5f",
           "arrowhead": 0,
           "arrowwidth": 1
          },
          "autotypenumbers": "strict",
          "coloraxis": {
           "colorbar": {
            "outlinewidth": 0,
            "ticks": ""
           }
          },
          "colorscale": {
           "diverging": [
            [
             0,
             "#8e0152"
            ],
            [
             0.1,
             "#c51b7d"
            ],
            [
             0.2,
             "#de77ae"
            ],
            [
             0.3,
             "#f1b6da"
            ],
            [
             0.4,
             "#fde0ef"
            ],
            [
             0.5,
             "#f7f7f7"
            ],
            [
             0.6,
             "#e6f5d0"
            ],
            [
             0.7,
             "#b8e186"
            ],
            [
             0.8,
             "#7fbc41"
            ],
            [
             0.9,
             "#4d9221"
            ],
            [
             1,
             "#276419"
            ]
           ],
           "sequential": [
            [
             0,
             "#0d0887"
            ],
            [
             0.1111111111111111,
             "#46039f"
            ],
            [
             0.2222222222222222,
             "#7201a8"
            ],
            [
             0.3333333333333333,
             "#9c179e"
            ],
            [
             0.4444444444444444,
             "#bd3786"
            ],
            [
             0.5555555555555556,
             "#d8576b"
            ],
            [
             0.6666666666666666,
             "#ed7953"
            ],
            [
             0.7777777777777778,
             "#fb9f3a"
            ],
            [
             0.8888888888888888,
             "#fdca26"
            ],
            [
             1,
             "#f0f921"
            ]
           ],
           "sequentialminus": [
            [
             0,
             "#0d0887"
            ],
            [
             0.1111111111111111,
             "#46039f"
            ],
            [
             0.2222222222222222,
             "#7201a8"
            ],
            [
             0.3333333333333333,
             "#9c179e"
            ],
            [
             0.4444444444444444,
             "#bd3786"
            ],
            [
             0.5555555555555556,
             "#d8576b"
            ],
            [
             0.6666666666666666,
             "#ed7953"
            ],
            [
             0.7777777777777778,
             "#fb9f3a"
            ],
            [
             0.8888888888888888,
             "#fdca26"
            ],
            [
             1,
             "#f0f921"
            ]
           ]
          },
          "colorway": [
           "#636efa",
           "#EF553B",
           "#00cc96",
           "#ab63fa",
           "#FFA15A",
           "#19d3f3",
           "#FF6692",
           "#B6E880",
           "#FF97FF",
           "#FECB52"
          ],
          "font": {
           "color": "#2a3f5f"
          },
          "geo": {
           "bgcolor": "white",
           "lakecolor": "white",
           "landcolor": "#E5ECF6",
           "showlakes": true,
           "showland": true,
           "subunitcolor": "white"
          },
          "hoverlabel": {
           "align": "left"
          },
          "hovermode": "closest",
          "mapbox": {
           "style": "light"
          },
          "paper_bgcolor": "white",
          "plot_bgcolor": "#E5ECF6",
          "polar": {
           "angularaxis": {
            "gridcolor": "white",
            "linecolor": "white",
            "ticks": ""
           },
           "bgcolor": "#E5ECF6",
           "radialaxis": {
            "gridcolor": "white",
            "linecolor": "white",
            "ticks": ""
           }
          },
          "scene": {
           "xaxis": {
            "backgroundcolor": "#E5ECF6",
            "gridcolor": "white",
            "gridwidth": 2,
            "linecolor": "white",
            "showbackground": true,
            "ticks": "",
            "zerolinecolor": "white"
           },
           "yaxis": {
            "backgroundcolor": "#E5ECF6",
            "gridcolor": "white",
            "gridwidth": 2,
            "linecolor": "white",
            "showbackground": true,
            "ticks": "",
            "zerolinecolor": "white"
           },
           "zaxis": {
            "backgroundcolor": "#E5ECF6",
            "gridcolor": "white",
            "gridwidth": 2,
            "linecolor": "white",
            "showbackground": true,
            "ticks": "",
            "zerolinecolor": "white"
           }
          },
          "shapedefaults": {
           "line": {
            "color": "#2a3f5f"
           }
          },
          "ternary": {
           "aaxis": {
            "gridcolor": "white",
            "linecolor": "white",
            "ticks": ""
           },
           "baxis": {
            "gridcolor": "white",
            "linecolor": "white",
            "ticks": ""
           },
           "bgcolor": "#E5ECF6",
           "caxis": {
            "gridcolor": "white",
            "linecolor": "white",
            "ticks": ""
           }
          },
          "title": {
           "x": 0.05
          },
          "xaxis": {
           "automargin": true,
           "gridcolor": "white",
           "linecolor": "white",
           "ticks": "",
           "title": {
            "standoff": 15
           },
           "zerolinecolor": "white",
           "zerolinewidth": 2
          },
          "yaxis": {
           "automargin": true,
           "gridcolor": "white",
           "linecolor": "white",
           "ticks": "",
           "title": {
            "standoff": 15
           },
           "zerolinecolor": "white",
           "zerolinewidth": 2
          }
         }
        },
        "xaxis": {
         "anchor": "y",
         "domain": [
          0,
          1
         ],
         "title": {
          "text": "x"
         }
        },
        "yaxis": {
         "anchor": "x",
         "domain": [
          0,
          1
         ],
         "title": {
          "text": "index"
         }
        }
       }
      }
     },
     "metadata": {},
     "output_type": "display_data"
    }
   ],
   "source": [
    "import plotly.express as px\n",
    "df = pd.read_excel('Movie.excel.ods')\n",
    "x = [1,2,3,4]\n",
    "y = [1,2,3,4]\n",
    "\n",
    "fig = px.line(x,y)\n",
    "fig.show()"
   ]
  },
  {
   "cell_type": "markdown",
   "metadata": {},
   "source": [
    "# Scatter plot showing theater counts and total gross"
   ]
  },
  {
   "cell_type": "code",
   "execution_count": 19,
   "metadata": {},
   "outputs": [
    {
     "data": {
      "application/vnd.plotly.v1+json": {
       "config": {
        "plotlyServerURL": "https://plot.ly"
       },
       "data": [
        {
         "hovertemplate": "TotalGross=%{x}<br>Theaters=%{y}<extra></extra>",
         "legendgroup": "",
         "marker": {
          "color": "#636efa",
          "symbol": "circle"
         },
         "mode": "markers",
         "name": "",
         "orientation": "v",
         "showlegend": false,
         "type": "scatter",
         "x": [
          69628950,
          131196059,
          24765840,
          76085405,
          47625544,
          5753010,
          17489392,
          195856493,
          2478619,
          3217136,
          20064357,
          68259430,
          193425355,
          112748155,
          25867515,
          20535053,
          487574671,
          1850493,
          587692,
          435218,
          1044487,
          20092802,
          4912792,
          8110042,
          1188493,
          180083,
          860266,
          386079,
          216706,
          37496,
          397528,
          76887,
          291705,
          9962832,
          380545,
          29068,
          222779,
          16361,
          227270,
          152549,
          43897,
          23102,
          2626127,
          14089,
          186656,
          10004,
          16808,
          38917619,
          37572331,
          4803110,
          17254,
          3564,
          390879056,
          78685,
          18332,
          31380,
          14861
         ],
         "xaxis": "x",
         "y": [
          4068,
          3550,
          2856,
          2955,
          1089,
          2013,
          864,
          664,
          450,
          469,
          530,
          1112,
          485,
          228,
          109,
          100,
          70,
          595,
          138,
          104,
          18,
          95,
          46,
          10,
          51,
          8,
          15,
          10,
          17,
          9,
          19,
          5,
          2,
          8,
          6,
          10,
          5,
          2,
          3,
          3,
          1,
          5,
          2,
          2,
          1,
          1,
          1,
          3804,
          4035,
          2100,
          6,
          3,
          466,
          1,
          2,
          1,
          1
         ],
         "yaxis": "y"
        }
       ],
       "layout": {
        "legend": {
         "tracegroupgap": 0
        },
        "margin": {
         "t": 60
        },
        "template": {
         "data": {
          "bar": [
           {
            "error_x": {
             "color": "#2a3f5f"
            },
            "error_y": {
             "color": "#2a3f5f"
            },
            "marker": {
             "line": {
              "color": "#E5ECF6",
              "width": 0.5
             },
             "pattern": {
              "fillmode": "overlay",
              "size": 10,
              "solidity": 0.2
             }
            },
            "type": "bar"
           }
          ],
          "barpolar": [
           {
            "marker": {
             "line": {
              "color": "#E5ECF6",
              "width": 0.5
             },
             "pattern": {
              "fillmode": "overlay",
              "size": 10,
              "solidity": 0.2
             }
            },
            "type": "barpolar"
           }
          ],
          "carpet": [
           {
            "aaxis": {
             "endlinecolor": "#2a3f5f",
             "gridcolor": "white",
             "linecolor": "white",
             "minorgridcolor": "white",
             "startlinecolor": "#2a3f5f"
            },
            "baxis": {
             "endlinecolor": "#2a3f5f",
             "gridcolor": "white",
             "linecolor": "white",
             "minorgridcolor": "white",
             "startlinecolor": "#2a3f5f"
            },
            "type": "carpet"
           }
          ],
          "choropleth": [
           {
            "colorbar": {
             "outlinewidth": 0,
             "ticks": ""
            },
            "type": "choropleth"
           }
          ],
          "contour": [
           {
            "colorbar": {
             "outlinewidth": 0,
             "ticks": ""
            },
            "colorscale": [
             [
              0,
              "#0d0887"
             ],
             [
              0.1111111111111111,
              "#46039f"
             ],
             [
              0.2222222222222222,
              "#7201a8"
             ],
             [
              0.3333333333333333,
              "#9c179e"
             ],
             [
              0.4444444444444444,
              "#bd3786"
             ],
             [
              0.5555555555555556,
              "#d8576b"
             ],
             [
              0.6666666666666666,
              "#ed7953"
             ],
             [
              0.7777777777777778,
              "#fb9f3a"
             ],
             [
              0.8888888888888888,
              "#fdca26"
             ],
             [
              1,
              "#f0f921"
             ]
            ],
            "type": "contour"
           }
          ],
          "contourcarpet": [
           {
            "colorbar": {
             "outlinewidth": 0,
             "ticks": ""
            },
            "type": "contourcarpet"
           }
          ],
          "heatmap": [
           {
            "colorbar": {
             "outlinewidth": 0,
             "ticks": ""
            },
            "colorscale": [
             [
              0,
              "#0d0887"
             ],
             [
              0.1111111111111111,
              "#46039f"
             ],
             [
              0.2222222222222222,
              "#7201a8"
             ],
             [
              0.3333333333333333,
              "#9c179e"
             ],
             [
              0.4444444444444444,
              "#bd3786"
             ],
             [
              0.5555555555555556,
              "#d8576b"
             ],
             [
              0.6666666666666666,
              "#ed7953"
             ],
             [
              0.7777777777777778,
              "#fb9f3a"
             ],
             [
              0.8888888888888888,
              "#fdca26"
             ],
             [
              1,
              "#f0f921"
             ]
            ],
            "type": "heatmap"
           }
          ],
          "heatmapgl": [
           {
            "colorbar": {
             "outlinewidth": 0,
             "ticks": ""
            },
            "colorscale": [
             [
              0,
              "#0d0887"
             ],
             [
              0.1111111111111111,
              "#46039f"
             ],
             [
              0.2222222222222222,
              "#7201a8"
             ],
             [
              0.3333333333333333,
              "#9c179e"
             ],
             [
              0.4444444444444444,
              "#bd3786"
             ],
             [
              0.5555555555555556,
              "#d8576b"
             ],
             [
              0.6666666666666666,
              "#ed7953"
             ],
             [
              0.7777777777777778,
              "#fb9f3a"
             ],
             [
              0.8888888888888888,
              "#fdca26"
             ],
             [
              1,
              "#f0f921"
             ]
            ],
            "type": "heatmapgl"
           }
          ],
          "histogram": [
           {
            "marker": {
             "pattern": {
              "fillmode": "overlay",
              "size": 10,
              "solidity": 0.2
             }
            },
            "type": "histogram"
           }
          ],
          "histogram2d": [
           {
            "colorbar": {
             "outlinewidth": 0,
             "ticks": ""
            },
            "colorscale": [
             [
              0,
              "#0d0887"
             ],
             [
              0.1111111111111111,
              "#46039f"
             ],
             [
              0.2222222222222222,
              "#7201a8"
             ],
             [
              0.3333333333333333,
              "#9c179e"
             ],
             [
              0.4444444444444444,
              "#bd3786"
             ],
             [
              0.5555555555555556,
              "#d8576b"
             ],
             [
              0.6666666666666666,
              "#ed7953"
             ],
             [
              0.7777777777777778,
              "#fb9f3a"
             ],
             [
              0.8888888888888888,
              "#fdca26"
             ],
             [
              1,
              "#f0f921"
             ]
            ],
            "type": "histogram2d"
           }
          ],
          "histogram2dcontour": [
           {
            "colorbar": {
             "outlinewidth": 0,
             "ticks": ""
            },
            "colorscale": [
             [
              0,
              "#0d0887"
             ],
             [
              0.1111111111111111,
              "#46039f"
             ],
             [
              0.2222222222222222,
              "#7201a8"
             ],
             [
              0.3333333333333333,
              "#9c179e"
             ],
             [
              0.4444444444444444,
              "#bd3786"
             ],
             [
              0.5555555555555556,
              "#d8576b"
             ],
             [
              0.6666666666666666,
              "#ed7953"
             ],
             [
              0.7777777777777778,
              "#fb9f3a"
             ],
             [
              0.8888888888888888,
              "#fdca26"
             ],
             [
              1,
              "#f0f921"
             ]
            ],
            "type": "histogram2dcontour"
           }
          ],
          "mesh3d": [
           {
            "colorbar": {
             "outlinewidth": 0,
             "ticks": ""
            },
            "type": "mesh3d"
           }
          ],
          "parcoords": [
           {
            "line": {
             "colorbar": {
              "outlinewidth": 0,
              "ticks": ""
             }
            },
            "type": "parcoords"
           }
          ],
          "pie": [
           {
            "automargin": true,
            "type": "pie"
           }
          ],
          "scatter": [
           {
            "fillpattern": {
             "fillmode": "overlay",
             "size": 10,
             "solidity": 0.2
            },
            "type": "scatter"
           }
          ],
          "scatter3d": [
           {
            "line": {
             "colorbar": {
              "outlinewidth": 0,
              "ticks": ""
             }
            },
            "marker": {
             "colorbar": {
              "outlinewidth": 0,
              "ticks": ""
             }
            },
            "type": "scatter3d"
           }
          ],
          "scattercarpet": [
           {
            "marker": {
             "colorbar": {
              "outlinewidth": 0,
              "ticks": ""
             }
            },
            "type": "scattercarpet"
           }
          ],
          "scattergeo": [
           {
            "marker": {
             "colorbar": {
              "outlinewidth": 0,
              "ticks": ""
             }
            },
            "type": "scattergeo"
           }
          ],
          "scattergl": [
           {
            "marker": {
             "colorbar": {
              "outlinewidth": 0,
              "ticks": ""
             }
            },
            "type": "scattergl"
           }
          ],
          "scattermapbox": [
           {
            "marker": {
             "colorbar": {
              "outlinewidth": 0,
              "ticks": ""
             }
            },
            "type": "scattermapbox"
           }
          ],
          "scatterpolar": [
           {
            "marker": {
             "colorbar": {
              "outlinewidth": 0,
              "ticks": ""
             }
            },
            "type": "scatterpolar"
           }
          ],
          "scatterpolargl": [
           {
            "marker": {
             "colorbar": {
              "outlinewidth": 0,
              "ticks": ""
             }
            },
            "type": "scatterpolargl"
           }
          ],
          "scatterternary": [
           {
            "marker": {
             "colorbar": {
              "outlinewidth": 0,
              "ticks": ""
             }
            },
            "type": "scatterternary"
           }
          ],
          "surface": [
           {
            "colorbar": {
             "outlinewidth": 0,
             "ticks": ""
            },
            "colorscale": [
             [
              0,
              "#0d0887"
             ],
             [
              0.1111111111111111,
              "#46039f"
             ],
             [
              0.2222222222222222,
              "#7201a8"
             ],
             [
              0.3333333333333333,
              "#9c179e"
             ],
             [
              0.4444444444444444,
              "#bd3786"
             ],
             [
              0.5555555555555556,
              "#d8576b"
             ],
             [
              0.6666666666666666,
              "#ed7953"
             ],
             [
              0.7777777777777778,
              "#fb9f3a"
             ],
             [
              0.8888888888888888,
              "#fdca26"
             ],
             [
              1,
              "#f0f921"
             ]
            ],
            "type": "surface"
           }
          ],
          "table": [
           {
            "cells": {
             "fill": {
              "color": "#EBF0F8"
             },
             "line": {
              "color": "white"
             }
            },
            "header": {
             "fill": {
              "color": "#C8D4E3"
             },
             "line": {
              "color": "white"
             }
            },
            "type": "table"
           }
          ]
         },
         "layout": {
          "annotationdefaults": {
           "arrowcolor": "#2a3f5f",
           "arrowhead": 0,
           "arrowwidth": 1
          },
          "autotypenumbers": "strict",
          "coloraxis": {
           "colorbar": {
            "outlinewidth": 0,
            "ticks": ""
           }
          },
          "colorscale": {
           "diverging": [
            [
             0,
             "#8e0152"
            ],
            [
             0.1,
             "#c51b7d"
            ],
            [
             0.2,
             "#de77ae"
            ],
            [
             0.3,
             "#f1b6da"
            ],
            [
             0.4,
             "#fde0ef"
            ],
            [
             0.5,
             "#f7f7f7"
            ],
            [
             0.6,
             "#e6f5d0"
            ],
            [
             0.7,
             "#b8e186"
            ],
            [
             0.8,
             "#7fbc41"
            ],
            [
             0.9,
             "#4d9221"
            ],
            [
             1,
             "#276419"
            ]
           ],
           "sequential": [
            [
             0,
             "#0d0887"
            ],
            [
             0.1111111111111111,
             "#46039f"
            ],
            [
             0.2222222222222222,
             "#7201a8"
            ],
            [
             0.3333333333333333,
             "#9c179e"
            ],
            [
             0.4444444444444444,
             "#bd3786"
            ],
            [
             0.5555555555555556,
             "#d8576b"
            ],
            [
             0.6666666666666666,
             "#ed7953"
            ],
            [
             0.7777777777777778,
             "#fb9f3a"
            ],
            [
             0.8888888888888888,
             "#fdca26"
            ],
            [
             1,
             "#f0f921"
            ]
           ],
           "sequentialminus": [
            [
             0,
             "#0d0887"
            ],
            [
             0.1111111111111111,
             "#46039f"
            ],
            [
             0.2222222222222222,
             "#7201a8"
            ],
            [
             0.3333333333333333,
             "#9c179e"
            ],
            [
             0.4444444444444444,
             "#bd3786"
            ],
            [
             0.5555555555555556,
             "#d8576b"
            ],
            [
             0.6666666666666666,
             "#ed7953"
            ],
            [
             0.7777777777777778,
             "#fb9f3a"
            ],
            [
             0.8888888888888888,
             "#fdca26"
            ],
            [
             1,
             "#f0f921"
            ]
           ]
          },
          "colorway": [
           "#636efa",
           "#EF553B",
           "#00cc96",
           "#ab63fa",
           "#FFA15A",
           "#19d3f3",
           "#FF6692",
           "#B6E880",
           "#FF97FF",
           "#FECB52"
          ],
          "font": {
           "color": "#2a3f5f"
          },
          "geo": {
           "bgcolor": "white",
           "lakecolor": "white",
           "landcolor": "#E5ECF6",
           "showlakes": true,
           "showland": true,
           "subunitcolor": "white"
          },
          "hoverlabel": {
           "align": "left"
          },
          "hovermode": "closest",
          "mapbox": {
           "style": "light"
          },
          "paper_bgcolor": "white",
          "plot_bgcolor": "#E5ECF6",
          "polar": {
           "angularaxis": {
            "gridcolor": "white",
            "linecolor": "white",
            "ticks": ""
           },
           "bgcolor": "#E5ECF6",
           "radialaxis": {
            "gridcolor": "white",
            "linecolor": "white",
            "ticks": ""
           }
          },
          "scene": {
           "xaxis": {
            "backgroundcolor": "#E5ECF6",
            "gridcolor": "white",
            "gridwidth": 2,
            "linecolor": "white",
            "showbackground": true,
            "ticks": "",
            "zerolinecolor": "white"
           },
           "yaxis": {
            "backgroundcolor": "#E5ECF6",
            "gridcolor": "white",
            "gridwidth": 2,
            "linecolor": "white",
            "showbackground": true,
            "ticks": "",
            "zerolinecolor": "white"
           },
           "zaxis": {
            "backgroundcolor": "#E5ECF6",
            "gridcolor": "white",
            "gridwidth": 2,
            "linecolor": "white",
            "showbackground": true,
            "ticks": "",
            "zerolinecolor": "white"
           }
          },
          "shapedefaults": {
           "line": {
            "color": "#2a3f5f"
           }
          },
          "ternary": {
           "aaxis": {
            "gridcolor": "white",
            "linecolor": "white",
            "ticks": ""
           },
           "baxis": {
            "gridcolor": "white",
            "linecolor": "white",
            "ticks": ""
           },
           "bgcolor": "#E5ECF6",
           "caxis": {
            "gridcolor": "white",
            "linecolor": "white",
            "ticks": ""
           }
          },
          "title": {
           "x": 0.05
          },
          "xaxis": {
           "automargin": true,
           "gridcolor": "white",
           "linecolor": "white",
           "ticks": "",
           "title": {
            "standoff": 15
           },
           "zerolinecolor": "white",
           "zerolinewidth": 2
          },
          "yaxis": {
           "automargin": true,
           "gridcolor": "white",
           "linecolor": "white",
           "ticks": "",
           "title": {
            "standoff": 15
           },
           "zerolinecolor": "white",
           "zerolinewidth": 2
          }
         }
        },
        "xaxis": {
         "anchor": "y",
         "domain": [
          0,
          1
         ],
         "title": {
          "text": "TotalGross"
         }
        },
        "yaxis": {
         "anchor": "x",
         "domain": [
          0,
          1
         ],
         "title": {
          "text": "Theaters"
         }
        }
       }
      }
     },
     "metadata": {},
     "output_type": "display_data"
    }
   ],
   "source": [
    "fig = px.scatter(df,x='TotalGross',y='Theaters')\n",
    "fig.show()"
   ]
  }
 ],
 "metadata": {
  "kernelspec": {
   "display_name": "base",
   "language": "python",
   "name": "python3"
  },
  "language_info": {
   "codemirror_mode": {
    "name": "ipython",
    "version": 3
   },
   "file_extension": ".py",
   "mimetype": "text/x-python",
   "name": "python",
   "nbconvert_exporter": "python",
   "pygments_lexer": "ipython3",
   "version": "3.9.12"
  }
 },
 "nbformat": 4,
 "nbformat_minor": 2
}
